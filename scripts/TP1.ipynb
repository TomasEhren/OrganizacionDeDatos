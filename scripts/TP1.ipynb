{
 "cells": [
  {
   "cell_type": "code",
   "execution_count": 15,
   "metadata": {},
   "outputs": [],
   "source": [
    "%matplotlib notebook\n",
    "import pandas as pd\n",
    "import numpy as np\n",
    "import matplotlib.pyplot as plt\n",
    "import seaborn \n",
    "import os\n",
    "import time"
   ]
  },
  {
   "cell_type": "code",
   "execution_count": 16,
   "metadata": {},
   "outputs": [
    {
     "name": "stderr",
     "output_type": "stream",
     "text": [
      "C:\\Users\\Tomas\\Anaconda3\\envs\\myenv\\lib\\site-packages\\IPython\\core\\interactiveshell.py:3020: DtypeWarning: Columns (12,18,19) have mixed types. Specify dtype option on import or set low_memory=False.\n",
      "  interactivity=interactivity, compiler=compiler, result=result)\n"
     ]
    },
    {
     "name": "stdout",
     "output_type": "stream",
     "text": [
      "se tardo 96.72134566307068 segundos en cargar dataframes\n"
     ]
    }
   ],
   "source": [
    "working_directory = os.path.realpath(os.path.join(os.getcwd(), os.path.dirname('__file__')))[:-7] + 'data\\\\'\n",
    "\n",
    "start = time.time()\n",
    "auctions = pd.read_csv(working_directory + 'auctions.csv.gzip', compression='gzip')\n",
    "clicks = pd.read_csv(working_directory + 'clicks.csv.gzip', compression='gzip')\n",
    "events = pd.read_csv(working_directory + 'events.csv.gzip', compression='gzip')\n",
    "installs = pd.read_csv(working_directory + 'installs.csv.gzip', compression='gzip')\n",
    "target_competencia = pd.read_csv(working_directory + 'target_competencia.csv')\n",
    "print('se tardo {0} segundos en cargar dataframes'.format(time.time()-start))"
   ]
  },
  {
   "cell_type": "code",
   "execution_count": 13,
   "metadata": {},
   "outputs": [
    {
     "data": {
      "text/plain": [
       "19571319"
      ]
     },
     "execution_count": 13,
     "metadata": {},
     "output_type": "execute_result"
    }
   ],
   "source": [
    "len(auctions)"
   ]
  }
 ],
 "metadata": {
  "kernelspec": {
   "display_name": "Python 3",
   "language": "python",
   "name": "python3"
  },
  "language_info": {
   "codemirror_mode": {
    "name": "ipython",
    "version": 3
   },
   "file_extension": ".py",
   "mimetype": "text/x-python",
   "name": "python",
   "nbconvert_exporter": "python",
   "pygments_lexer": "ipython3",
   "version": "3.6.6"
  }
 },
 "nbformat": 4,
 "nbformat_minor": 2
}
